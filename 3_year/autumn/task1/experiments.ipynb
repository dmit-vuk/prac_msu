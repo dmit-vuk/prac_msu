{
 "cells": [
  {
   "cell_type": "code",
   "execution_count": 1,
   "metadata": {
    "id": "BEo2cB5g0AUO"
   },
   "outputs": [],
   "source": [
    "import numpy as np\n",
    "import timeit\n",
    "import random\n",
    "from distances import *\n",
    "from nearest_neighbors import *\n",
    "from cross_validation import *"
   ]
  },
  {
   "cell_type": "code",
   "execution_count": 61,
   "metadata": {
    "id": "FLE2aBHN0AUu"
   },
   "outputs": [],
   "source": [
    "from sklearn import datasets\n",
    "X_mn, y_mn = datasets.fetch_openml('mnist_784', version=1, return_X_y=True)"
   ]
  },
  {
   "cell_type": "code",
   "execution_count": 65,
   "metadata": {
    "id": "p-C_2HD50AUy"
   },
   "outputs": [],
   "source": [
    "X_train, y_train = X_mn[:60000], y_mn[:60000]\n",
    "X_test, y_test = X_mn[60000:], y_mn[60000:]\n",
    "y_train = y_train.astype('int')\n",
    "y_test = y_test.astype('int')"
   ]
  },
  {
   "cell_type": "code",
   "execution_count": null,
   "metadata": {
    "colab": {
     "base_uri": "https://localhost:8080/"
    },
    "id": "Y1sD4Fn00AU0",
    "outputId": "24ef33a1-8cbd-402c-b64d-245739bd9f8c"
   },
   "outputs": [
    {
     "name": "stdout",
     "output_type": "stream",
     "text": [
      "size features = 10; strategy = my_own; time = 65.74481245900006\n",
      "size features = 10; strategy = brute; time = 11.01459619000002\n",
      "size features = 10; strategy = kd_tree; time = 1.6003130280000732\n",
      "size features = 10; strategy = ball_tree; time = 2.147780874000091\n",
      "size features = 20; strategy = my_own; time = 66.847140438\n",
      "size features = 20; strategy = brute; time = 10.961105515999861\n",
      "size features = 20; strategy = kd_tree; time = 6.688742156999979\n",
      "size features = 20; strategy = ball_tree; time = 28.085191028999816\n",
      "size features = 100; strategy = my_own; time = 69.85947947300019\n",
      "size features = 100; strategy = brute; time = 14.13291736899987\n",
      "size features = 100; strategy = kd_tree; time = 132.39915086399992\n",
      "size features = 100; strategy = ball_tree; time = 114.4766665029997\n"
     ]
    }
   ],
   "source": [
    "strategy = ['my_own', 'brute', 'kd_tree', 'ball_tree']\n",
    "sizes = [10, 20, 100]\n",
    "k = 5\n",
    "for size in sizes:\n",
    "    idx = np.unique(np.random.randint(X_train.shape[1], size=size))\n",
    "    for strat in strategy:\n",
    "        cl = KNNClassifier(k=k, strategy=strat, metric='euclidean', weights=False, test_block_size=200)\n",
    "        cl.fit(X_train[..., idx], y_train[..., idx])\n",
    "        start_time = timeit.default_timer()\n",
    "        cl.find_kneighbors(X_test[..., idx], return_distance=False)\n",
    "        time = timeit.default_timer() - start_time\n",
    "        print(f'size features = {size}; strategy = {strat}; time = {time}')"
   ]
  },
  {
   "cell_type": "code",
   "execution_count": 66,
   "metadata": {
    "colab": {
     "base_uri": "https://localhost:8080/"
    },
    "id": "27-vlocR0AVC",
    "outputId": "2b4152b4-ef87-49ed-ecf2-bc63c05301ac"
   },
   "outputs": [
    {
     "name": "stdout",
     "output_type": "stream",
     "text": [
      "metric: euclidean; weights = True; time = 168.1370780060006\n",
      "{1: array([0.96895, 0.96675, 0.9667 ]), 2: array([0.96895, 0.96675, 0.9667 ]), 3: array([0.97075, 0.9691 , 0.96825]), 4: array([0.9713, 0.9698, 0.9701]), 5: array([0.96925, 0.96825, 0.96875]), 6: array([0.9704 , 0.96845, 0.96945]), 7: array([0.96735, 0.96595, 0.967  ]), 8: array([0.9676 , 0.96665, 0.9678 ]), 9: array([0.9651, 0.9643, 0.9657]), 10: array([0.9647 , 0.96465, 0.9657 ])}\n",
      "Mean values for cross-val\n",
      "1 0.9674666666666667\n",
      "2 0.9674666666666667\n",
      "3 0.9693666666666667\n",
      "4 0.9704\n",
      "5 0.96875\n",
      "6 0.9694333333333334\n",
      "7 0.9667666666666667\n",
      "8 0.96735\n",
      "9 0.9650333333333334\n",
      "10 0.9650166666666666\n",
      "metric: cosine; weights = True; time = 160.785360165999\n",
      "{1: array([0.9733 , 0.9708 , 0.97045]), 2: array([0.9733 , 0.9708 , 0.97045]), 3: array([0.97495, 0.9725 , 0.97175]), 4: array([0.97545, 0.9732 , 0.97365]), 5: array([0.974  , 0.97095, 0.973  ]), 6: array([0.97465, 0.9714 , 0.97305]), 7: array([0.9726 , 0.9693 , 0.97195]), 8: array([0.97295, 0.97045, 0.9722 ]), 9: array([0.97165, 0.96865, 0.97145]), 10: array([0.97145, 0.96855, 0.9714 ])}\n",
      "Mean values for cross-val\n",
      "1 0.9715166666666667\n",
      "2 0.9715166666666667\n",
      "3 0.9730666666666666\n",
      "4 0.9741\n",
      "5 0.9726499999999999\n",
      "6 0.9730333333333334\n",
      "7 0.9712833333333334\n",
      "8 0.9718666666666667\n",
      "9 0.9705833333333334\n",
      "10 0.9704666666666667\n",
      "metric: euclidean; weights = False; time = 162.68782997000017\n",
      "{1: array([0.96895, 0.96675, 0.9667 ]), 2: array([0.9603 , 0.95995, 0.96125]), 3: array([0.96955, 0.96825, 0.96715]), 4: array([0.96705, 0.9667 , 0.9671 ]), 5: array([0.9681, 0.9673, 0.9672]), 6: array([0.96555, 0.96495, 0.9657 ]), 7: array([0.9652, 0.965 , 0.9656]), 8: array([0.96415, 0.9639 , 0.96525]), 9: array([0.9637 , 0.9632 , 0.96455]), 10: array([0.96245, 0.9622 , 0.9637 ])}\n",
      "Mean values for cross-val\n",
      "1 0.9674666666666667\n",
      "2 0.9605\n",
      "3 0.9683166666666668\n",
      "4 0.9669499999999999\n",
      "5 0.9675333333333334\n",
      "6 0.9653999999999999\n",
      "7 0.9652666666666666\n",
      "8 0.9644333333333334\n",
      "9 0.9638166666666667\n",
      "10 0.9627833333333333\n",
      "metric: cosine; weights = False; time = 160.08408586600126\n",
      "{1: array([0.9733 , 0.9708 , 0.97045]), 2: array([0.96895, 0.9664 , 0.96775]), 3: array([0.97365, 0.97155, 0.9709 ]), 4: array([0.9725 , 0.97095, 0.9722 ]), 5: array([0.97275, 0.97015, 0.9716 ]), 6: array([0.97195, 0.9697 , 0.97215]), 7: array([0.97125, 0.96815, 0.97075]), 8: array([0.97125, 0.96835, 0.97155]), 9: array([0.97005, 0.967  , 0.9707 ]), 10: array([0.96935, 0.96615, 0.9707 ])}\n",
      "Mean values for cross-val\n",
      "1 0.9715166666666667\n",
      "2 0.9677000000000001\n",
      "3 0.9720333333333334\n",
      "4 0.9718833333333333\n",
      "5 0.9714999999999999\n",
      "6 0.9712666666666667\n",
      "7 0.97005\n",
      "8 0.9703833333333334\n",
      "9 0.9692500000000001\n",
      "10 0.9687333333333333\n"
     ]
    }
   ],
   "source": [
    "cv = kfold(X_train.shape[0], 3)\n",
    "k_list = np.arange(1, 11)\n",
    "metrics = ['euclidean', 'cosine']\n",
    "weights = [True, False]\n",
    "for w in weights:\n",
    "    for m in metrics:\n",
    "        start_time = timeit.default_timer()\n",
    "        res = knn_cross_val_score(X_train, y_train, k_list, 'accuracy', cv = cv, strategy='brute', metric=m, weights=w)\n",
    "        time = timeit.default_timer() - start_time\n",
    "        print(f'metric: {m}; weights = {w}; time = {time}')\n",
    "        print(res)\n",
    "        print('Mean values for cross-val')\n",
    "        for k in k_list:\n",
    "            print(k, np.mean(res[k]))"
   ]
  },
  {
   "cell_type": "code",
   "execution_count": 18,
   "metadata": {
    "id": "Q1gfidPs6NNO"
   },
   "outputs": [],
   "source": [
    "from sklearn.metrics import confusion_matrix\n",
    "import matplotlib\n",
    "import matplotlib.pyplot as plt\n",
    "%matplotlib inline"
   ]
  },
  {
   "cell_type": "code",
   "execution_count": 1,
   "metadata": {
    "id": "UoKOLwjYvPyS"
   },
   "outputs": [],
   "source": [
    "def build_conf_mat(y_pred, y_test):\n",
    "    matrix = confusion_matrix(y_test, y_pred)\n",
    "    fig, ax = plt.subplots(figsize=(8, 8))\n",
    "    im = ax.imshow(matrix, cmap=plt.cm.Blues)\n",
    "    \n",
    "    ax.set(xticks=np.arange(matrix.shape[1]),\n",
    "          yticks=np.arange(matrix.shape[0]),\n",
    "          xticklabels=np.arange(0, 10), yticklabels=np.arange(0, 10),\n",
    "          title='Матрица ошибок',\n",
    "          ylabel='Истинный класс',\n",
    "          xlabel='Предсказанный класс')\n",
    "\n",
    "    for i in range(matrix.shape[0]):\n",
    "        for j in range(matrix.shape[1]):\n",
    "            ax.text(j, i, matrix[i, j], ha=\"center\", va=\"center\")\n",
    "    fig.tight_layout()\n",
    "    return ax"
   ]
  },
  {
   "cell_type": "code",
   "execution_count": 68,
   "metadata": {
    "colab": {
     "base_uri": "https://localhost:8080/"
    },
    "id": "GeNy6_yoq3Ak",
    "outputId": "ef702050-dc9d-417f-f021-20a6d128f6d2"
   },
   "outputs": [
    {
     "data": {
      "text/plain": [
       "0.9752"
      ]
     },
     "execution_count": 68,
     "metadata": {},
     "output_type": "execute_result"
    }
   ],
   "source": [
    "cl = KNNClassifier(k=4, strategy='brute', metric='cosine', weights=True)\n",
    "cl.fit(X_train, y_train)\n",
    "y_pred = cl.predict(X_test)\n",
    "np.count_nonzero(y_pred == y_test) / len(y_test)"
   ]
  },
  {
   "cell_type": "code",
   "execution_count": 69,
   "metadata": {
    "colab": {
     "base_uri": "https://localhost:8080/",
     "height": 602
    },
    "id": "RGwv4y90sLm9",
    "outputId": "b274b06a-9983-4226-f382-bf302d0bdea1"
   },
   "outputs": [
    {
     "data": {
      "text/plain": [
       "<matplotlib.axes._subplots.AxesSubplot at 0x7f8ece7a4150>"
      ]
     },
     "execution_count": 69,
     "metadata": {},
     "output_type": "execute_result"
    },
    {
     "data": {
      "image/png": "[encoded data removed]",
      "text/plain": [
       "<Figure size 576x576 with 1 Axes>"
      ]
     },
     "metadata": {
      "needs_background": "light"
     },
     "output_type": "display_data"
    }
   ],
   "source": [
    "build_conf_mat(y_pred, y_test)"
   ]
  },
  {
   "cell_type": "code",
   "execution_count": 70,
   "metadata": {
    "colab": {
     "base_uri": "https://localhost:8080/"
    },
    "id": "buXt4uUUq3Dn",
    "outputId": "1243e818-bf36-4eb1-889f-975938193f62"
   },
   "outputs": [
    {
     "name": "stdout",
     "output_type": "stream",
     "text": [
      "(array([2648, 2939, 4163, 6081, 6157, 6172, 6505]),)\n"
     ]
    }
   ],
   "source": [
    "print(np.nonzero((y_test == 9) & (y_pred == 0)))\n",
    "#np.nonzero(y_test == 0)"
   ]
  },
  {
   "cell_type": "code",
   "execution_count": 80,
   "metadata": {
    "colab": {
     "base_uri": "https://localhost:8080/",
     "height": 248
    },
    "id": "5TfQ25ihq3F-",
    "outputId": "27e635be-f92b-474a-e967-11a9fa8f5698"
   },
   "outputs": [
    {
     "data": {
      "image/png": "[encoded data removed]",
      "text/plain": [
       "<Figure size 432x288 with 1 Axes>"
      ]
     },
     "metadata": {
      "needs_background": "light"
     },
     "output_type": "display_data"
    }
   ],
   "source": [
    "plt.subplot(1, 1, 1)\n",
    "img = X_test[4163].reshape((28, 28))\n",
    "plt.imshow(img, cmap='gray')\n",
    "plt.axis('off')\n",
    "plt.show()"
   ]
  },
  {
   "cell_type": "code",
   "execution_count": 72,
   "metadata": {
    "colab": {
     "base_uri": "https://localhost:8080/",
     "height": 183
    },
    "id": "59PU4fB_q3M4",
    "outputId": "2e8d542f-fca6-4068-997d-446ac8edd5c4"
   },
   "outputs": [
    {
     "data": {
      "image/png": "[encoded data removed]",
      "text/plain": [
       "<Figure size 432x288 with 1 Axes>"
      ]
     },
     "metadata": {
      "needs_background": "light"
     },
     "output_type": "display_data"
    }
   ],
   "source": [
    "plt.subplot(1, 2, 2)\n",
    "img = X_test[9964].reshape((28, 28))\n",
    "plt.imshow(img, cmap='gray')\n",
    "plt.axis('off')\n",
    "plt.show()"
   ]
  },
  {
   "cell_type": "code",
   "execution_count": 73,
   "metadata": {
    "colab": {
     "base_uri": "https://localhost:8080/"
    },
    "id": "_soP2jt8rWp6",
    "outputId": "39933673-cd40-4226-8ba1-b2e44543e9bf"
   },
   "outputs": [
    {
     "name": "stdout",
     "output_type": "stream",
     "text": [
      "(array([ 591,  839, 1319, 1878, 4075, 4145, 4890, 7545, 7597]),)\n"
     ]
    }
   ],
   "source": [
    "print(np.nonzero((y_test == 8) & (y_pred == 3)))"
   ]
  },
  {
   "cell_type": "code",
   "execution_count": 74,
   "metadata": {
    "colab": {
     "base_uri": "https://localhost:8080/",
     "height": 248
    },
    "id": "5TCl08I7rWtK",
    "outputId": "30b92950-3c2a-4720-fb80-77aea6a89003"
   },
   "outputs": [
    {
     "data": {
      "image/png": "[encoded data removed]",
      "text/plain": [
       "<Figure size 432x288 with 1 Axes>"
      ]
     },
     "metadata": {
      "needs_background": "light"
     },
     "output_type": "display_data"
    }
   ],
   "source": [
    "plt.subplot(1, 1, 1)\n",
    "img = X_test[591].reshape((28, 28))\n",
    "plt.imshow(img, cmap='gray')\n",
    "plt.axis('off')\n",
    "plt.show()"
   ]
  },
  {
   "cell_type": "code",
   "execution_count": 75,
   "metadata": {
    "colab": {
     "base_uri": "https://localhost:8080/",
     "height": 248
    },
    "id": "r-yVPPpprWv4",
    "outputId": "be14c074-481e-46d0-aa1b-064eeb30a820"
   },
   "outputs": [
    {
     "data": {
      "image/png": "[encoded data removed]",
      "text/plain": [
       "<Figure size 432x288 with 1 Axes>"
      ]
     },
     "metadata": {
      "needs_background": "light"
     },
     "output_type": "display_data"
    }
   ],
   "source": [
    "plt.subplot(1, 1, 1)\n",
    "img = X_test[938].reshape((28, 28))\n",
    "plt.imshow(img, cmap='gray')\n",
    "plt.axis('off')\n",
    "plt.show()"
   ]
  },
  {
   "cell_type": "code",
   "execution_count": 76,
   "metadata": {
    "colab": {
     "base_uri": "https://localhost:8080/"
    },
    "id": "uSaaJuRCrW0O",
    "outputId": "27c23334-cedb-40d5-8a31-846061037c3e"
   },
   "outputs": [
    {
     "data": {
      "text/plain": [
       "(array([ 115,  447,  707,  740,  881, 1178, 1242, 1422, 1778, 1865, 2130,\n",
       "        2447, 2771, 2901, 3405, 3490, 4017, 4194, 4860, 4911, 5936, 8061,\n",
       "        8520, 8527, 9211]),)"
      ]
     },
     "execution_count": 76,
     "metadata": {},
     "output_type": "execute_result"
    }
   ],
   "source": [
    "np.nonzero((y_test == 4) & (y_pred == 9))"
   ]
  },
  {
   "cell_type": "code",
   "execution_count": 81,
   "metadata": {
    "colab": {
     "base_uri": "https://localhost:8080/",
     "height": 228
    },
    "id": "_eH6EeHZrioa",
    "outputId": "fb03807a-d26b-479b-c188-21dfba513c8a"
   },
   "outputs": [
    {
     "data": {
      "image/png": "[encoded data removed]",
      "text/plain": [
       "<Figure size 864x864 with 3 Axes>"
      ]
     },
     "metadata": {
      "needs_background": "light"
     },
     "output_type": "display_data"
    }
   ],
   "source": [
    "plt.figure(figsize=(12,12))\n",
    "\n",
    "plt.subplot(1, 3, 1)\n",
    "img = X_test[2771].reshape((28, 28))\n",
    "plt.imshow(img, cmap='gray')\n",
    "plt.axis('off')\n",
    "#plt.show()\n",
    "\n",
    "plt.subplot(1, 3, 2)\n",
    "img = X_test[2901].reshape((28, 28))\n",
    "plt.imshow(img, cmap='gray')\n",
    "plt.axis('off')\n",
    "#plt.show()\n",
    "\n",
    "plt.subplot(1, 3, 3)\n",
    "img = X_test[2447].reshape((28, 28))\n",
    "plt.imshow(img, cmap='gray')\n",
    "plt.axis('off')\n",
    "plt.show()"
   ]
  },
  {
   "cell_type": "code",
   "execution_count": 78,
   "metadata": {
    "colab": {
     "base_uri": "https://localhost:8080/"
    },
    "id": "ofCB2iQnrirb",
    "outputId": "f04a18b1-1484-4be9-9d11-eea556767a18"
   },
   "outputs": [
    {
     "data": {
      "text/plain": [
       "(array([1522, 1721, 3333, 4199, 4578, 4690, 5600, 5620, 5655, 5714, 5835,\n",
       "        5887, 5906]),)"
      ]
     },
     "execution_count": 78,
     "metadata": {},
     "output_type": "execute_result"
    }
   ],
   "source": [
    "np.nonzero((y_test == 7) & (y_pred == 9))"
   ]
  },
  {
   "cell_type": "code",
   "execution_count": 82,
   "metadata": {
    "colab": {
     "base_uri": "https://localhost:8080/",
     "height": 228
    },
    "id": "q2DC4CFDrn8d",
    "outputId": "921bdb9c-f00e-41a6-db24-c3b311029b5e"
   },
   "outputs": [
    {
     "data": {
      "image/png": "[encoded data removed]",
      "text/plain": [
       "<Figure size 864x864 with 3 Axes>"
      ]
     },
     "metadata": {
      "needs_background": "light"
     },
     "output_type": "display_data"
    }
   ],
   "source": [
    "plt.figure(figsize=(12,12))\n",
    "\n",
    "plt.subplot(1, 3, 1)\n",
    "img = X_test[3333].reshape((28, 28))\n",
    "plt.imshow(img, cmap='gray')\n",
    "plt.axis('off')\n",
    "#plt.show()\n",
    "\n",
    "plt.subplot(1, 3, 2)\n",
    "img = X_test[5620].reshape((28, 28))\n",
    "plt.imshow(img, cmap='gray')\n",
    "plt.axis('off')\n",
    "#plt.show()\n",
    "\n",
    "plt.subplot(1, 3, 3)\n",
    "img = X_test[1721].reshape((28, 28))\n",
    "plt.imshow(img, cmap='gray')\n",
    "plt.axis('off')\n",
    "plt.show()"
   ]
  },
  {
   "cell_type": "code",
   "execution_count": 5,
   "metadata": {
    "id": "1xg3xNQ4xRuw"
   },
   "outputs": [],
   "source": [
    "from skimage.transform import rotate\n",
    "from skimage.filters import gaussian\n",
    "from skimage.transform import warp, SimilarityTransform"
   ]
  },
  {
   "cell_type": "code",
   "execution_count": 83,
   "metadata": {
    "colab": {
     "base_uri": "https://localhost:8080/",
     "height": 176
    },
    "id": "et81eK84zAdj",
    "outputId": "b0686267-9c7d-4820-b19a-88c19b9a494d"
   },
   "outputs": [
    {
     "data": {
      "image/png": "[encoded data removed]",
      "text/plain": [
       "<Figure size 864x864 with 4 Axes>"
      ]
     },
     "metadata": {
      "needs_background": "light"
     },
     "output_type": "display_data"
    }
   ],
   "source": [
    "plt.figure(figsize=(12,12))\n",
    "\n",
    "plt.subplot(1, 4, 1)\n",
    "img = X_test[2771].reshape((28, 28))\n",
    "plt.imshow(img, cmap='gray')\n",
    "plt.axis('off')\n",
    "\n",
    "plt.subplot(1, 4, 2)\n",
    "new_img = rotate(img, 50.0)\n",
    "plt.imshow(new_img, cmap='gray')\n",
    "plt.axis('off')\n",
    "\n",
    "plt.subplot(1, 4, 3)\n",
    "transform = SimilarityTransform(translation=[-10, 0])\n",
    "new_img = warp(img, transform)\n",
    "plt.imshow(new_img, cmap='gray')\n",
    "plt.axis('off')\n",
    "\n",
    "\n",
    "plt.subplot(1, 4, 4)\n",
    "new_img = gaussian(img.reshape((28, 28)), sigma=1.0)\n",
    "plt.imshow(new_img, cmap='gray')\n",
    "plt.axis('off')\n",
    "plt.show()"
   ]
  },
  {
   "cell_type": "code",
   "execution_count": 6,
   "metadata": {
    "id": "icKeWHMz0TO1"
   },
   "outputs": [],
   "source": [
    "import random\n",
    "from sklearn.model_selection import cross_val_score\n",
    "\n",
    "rotates = [-15, -10, -5, 5, 10, 15]\n",
    "shifts = [-3, -2, -1, 1, 2, 3]\n",
    "gaus = [0.5, 1, 1.5]"
   ]
  },
  {
   "cell_type": "code",
   "execution_count": 87,
   "metadata": {
    "id": "_e5VbfO1qZBT"
   },
   "outputs": [],
   "source": [
    "import pandas as pd\n",
    "X_train_pd = pd.read_csv('/mnist_train.csv')\n",
    "y_train_pd = X_train_pd.pop('label')\n",
    "X_test_pd = pd.read_csv('/mnist_test.csv')\n",
    "y_test_pd = X_test_pd.pop('label')"
   ]
  },
  {
   "cell_type": "code",
   "execution_count": 88,
   "metadata": {
    "id": "VsTr0qQtFlcj"
   },
   "outputs": [],
   "source": [
    "vec_rotate = np.vectorize(rotate, signature='(n,m)->(n,m)', excluded=['angle'])\n",
    "vec_gauss = np.vectorize(gaussian, signature='(n,m)->(n,m)', excluded=['sigma'])\n",
    "vec_shift = np.vectorize(warp, signature='(n,m)->(n,m)', excluded=['inverse_map'])\n",
    "new_train = X_train_pd.copy(deep=True)\n",
    "transformer = np.apply_along_axis(np.reshape, 1, new_train, (28, 28))"
   ]
  },
  {
   "cell_type": "code",
   "execution_count": null,
   "metadata": {
    "colab": {
     "base_uri": "https://localhost:8080/"
    },
    "id": "tKUfpFEaww50",
    "outputId": "2ec647ae-a1ed-4e7f-ff40-7702525fdd99"
   },
   "outputs": [
    {
     "name": "stdout",
     "output_type": "stream",
     "text": [
      "angle = -15, x_sh = 2, y_sh = 3, sigma = 0.5\n",
      "{3: array([0.9872625, 0.968025 , 0.98365  ])}\n",
      "angle = -10, x_sh = 2, y_sh = 3, sigma = 0.5\n",
      "{3: array([0.9915375, 0.9748875, 0.9884   ])}\n",
      "angle = -5, x_sh = 2, y_sh = 3, sigma = 0.5\n",
      "{3: array([0.99435  , 0.9813625, 0.9927625])}\n",
      "angle = 5, x_sh = 2, y_sh = 3, sigma = 0.5\n",
      "{3: array([0.99425  , 0.981325 , 0.9927875])}\n",
      "angle = 10, x_sh = 2, y_sh = 3, sigma = 0.5\n",
      "{3: array([0.9914375, 0.974875 , 0.9889   ])}\n",
      "angle = 15, x_sh = 2, y_sh = 3, sigma = 0.5\n",
      "{3: array([0.9870875, 0.9673375, 0.9846   ])}\n"
     ]
    }
   ],
   "source": [
    "x_shift = random.choice(shifts)\n",
    "y_shift = random.choice(shifts)\n",
    "sigma = random.choice(gaus)\n",
    "cv = kfold(X_train_pd.shape[0]*4, 3)\n",
    "for angle in rotates:\n",
    "    X_rotate = vec_rotate(transformer, angle=angle).reshape((transformer.shape[0], 784))\n",
    "    X_shift =  vec_shift(transformer, inverse_map=SimilarityTransform(translation=(x_shift, y_shift))).reshape((transformer.shape[0], 784))\n",
    "    X_gaus = vec_gauss(transformer, sigma=sigma).reshape((transformer.shape[0], 784))\n",
    "    \n",
    "    X_train_aug = np.concatenate((new_train.values, X_rotate, X_shift, X_gaus), axis=0)\n",
    "    y_train_aug =  np.concatenate((y_train_pd.values, y_train_pd.values, y_train_pd.values, y_train_pd.values), axis=0)\n",
    "\n",
    "    res = knn_cross_val_score(X_train_aug, y_train_aug, [4], 'accuracy', cv = cv, strategy='brute', metric='cosine', weights=True)\n",
    "    print(f'angle = {angle}, x_sh = {x_shift}, y_sh = {y_shift}, sigma = {sigma}')\n",
    "    print(res)"
   ]
  },
  {
   "cell_type": "code",
   "execution_count": null,
   "metadata": {
    "colab": {
     "base_uri": "https://localhost:8080/"
    },
    "id": "TiilXQ6jnMTp",
    "outputId": "15958ca2-f98d-46c2-98a9-f2dc199d1d2c"
   },
   "outputs": [
    {
     "name": "stdout",
     "output_type": "stream",
     "text": [
      "angle = -5, x_sh = -3, y_sh = -3, sigma = 1\n",
      "{3: array([0.9950375, 0.9817625, 0.990275 ])}\n",
      "angle = -5, x_sh = -2, y_sh = 3, sigma = 1\n",
      "{3: array([0.995025 , 0.981525 , 0.9904375])}\n",
      "angle = -5, x_sh = -1, y_sh = 1, sigma = 1\n",
      "{3: array([0.995225, 0.98865 , 0.991725])}\n",
      "angle = -5, x_sh = 1, y_sh = -1, sigma = 1\n",
      "{3: array([0.99535  , 0.9897875, 0.992425 ])}\n",
      "angle = -5, x_sh = 2, y_sh = -2, sigma = 1\n",
      "{3: array([0.9950375, 0.9817625, 0.990425 ])}\n",
      "angle = -5, x_sh = 3, y_sh = 2, sigma = 1\n",
      "{3: array([0.9950375, 0.9815875, 0.9903125])}\n"
     ]
    }
   ],
   "source": [
    "angle = -5\n",
    "sigma = random.choice(gaus)\n",
    "cv = kfold(X_train_pd.shape[0]*4, 3)\n",
    "for x_shift in range(-3, 4):\n",
    "    if x_shift == 0:\n",
    "        continue\n",
    "    y_shift = random.choice(shifts)\n",
    "    shifts.remove(y_shift)\n",
    "    X_rotate = vec_rotate(transformer, angle=angle).reshape((transformer.shape[0], 784))\n",
    "    X_shift =  vec_shift(transformer, inverse_map=SimilarityTransform(translation=(x_shift, y_shift))).reshape((transformer.shape[0], 784))\n",
    "    X_gaus = vec_gauss(transformer, sigma=sigma).reshape((transformer.shape[0], 784))\n",
    "    \n",
    "    X_train_aug = np.concatenate((new_train.values, X_rotate, X_shift, X_gaus), axis=0)\n",
    "    y_train_aug =  np.concatenate((y_train_pd.values, y_train_pd.values, y_train_pd.values, y_train_pd.values), axis=0)\n",
    "\n",
    "    res = knn_cross_val_score(X_train_aug, y_train_aug, [4], 'accuracy', cv = cv, strategy='brute', metric='cosine', weights=True)\n",
    "    print(f'angle = {angle}, x_sh = {x_shift}, y_sh = {y_shift}, sigma = {sigma}')\n",
    "    print(res)"
   ]
  },
  {
   "cell_type": "code",
   "execution_count": null,
   "metadata": {
    "colab": {
     "background_save": true
    },
    "id": "aguKgrfVRDz-",
    "outputId": "6d6ec5e4-6c40-442f-a25d-ecda33f3ba01"
   },
   "outputs": [
    {
     "name": "stdout",
     "output_type": "stream",
     "text": [
      "angle = -5, x_sh = 1, y_sh = -1, sigma = 0.5\n",
      "{3: array([0.9948375, 0.98875  , 0.9948   ])}\n"
     ]
    }
   ],
   "source": [
    "angle = -5\n",
    "y_shift = -1\n",
    "x_shift = 1\n",
    "cv = kfold(X_train_pd.shape[0]*4, 3)\n",
    "for sigma in [0.5, 1.5]:\n",
    "    X_rotate = vec_rotate(transformer, angle=angle).reshape((transformer.shape[0], 784))\n",
    "    X_shift =  vec_shift(transformer, inverse_map=SimilarityTransform(translation=(x_shift, y_shift))).reshape((transformer.shape[0], 784))\n",
    "    X_gaus = vec_gauss(transformer, sigma=sigma).reshape((transformer.shape[0], 784))\n",
    "    \n",
    "    X_train_aug = np.concatenate((new_train.values, X_rotate, X_shift, X_gaus), axis=0)\n",
    "    y_train_aug =  np.concatenate((y_train_pd.values, y_train_pd.values, y_train_pd.values, y_train_pd.values), axis=0)\n",
    "\n",
    "    res = knn_cross_val_score(X_train_aug, y_train_aug, [4], 'accuracy', cv = cv, strategy='brute', metric='cosine', weights=True)\n",
    "    print(f'angle = {angle}, x_sh = {x_shift}, y_sh = {y_shift}, sigma = {sigma}')\n",
    "    print(res)"
   ]
  },
  {
   "cell_type": "code",
   "execution_count": 89,
   "metadata": {
    "id": "EtamvVcOTa-0"
   },
   "outputs": [],
   "source": [
    "angle = -5\n",
    "y_shift = -1\n",
    "x_shift = 1\n",
    "sigma = 0.5\n",
    "X_rotate = vec_rotate(transformer, angle=angle).reshape((transformer.shape[0], 784))\n",
    "X_shift =  vec_shift(transformer, inverse_map=SimilarityTransform(translation=(x_shift, y_shift))).reshape((transformer.shape[0], 784))\n",
    "X_gaus = vec_gauss(transformer, sigma=sigma).reshape((transformer.shape[0], 784))\n",
    "    \n",
    "X_train_aug = np.concatenate((new_train.values, X_rotate, X_shift, X_gaus), axis=0)\n",
    "y_train_aug =  np.concatenate((y_train_pd.values, y_train_pd.values, y_train_pd.values, y_train_pd.values), axis=0)"
   ]
  },
  {
   "cell_type": "code",
   "execution_count": 90,
   "metadata": {
    "colab": {
     "base_uri": "https://localhost:8080/"
    },
    "id": "unykcAgaTbao",
    "outputId": "2e9c8f34-8e99-498e-f15d-e9246fe9d7f5"
   },
   "outputs": [
    {
     "data": {
      "text/plain": [
       "0.9768"
      ]
     },
     "execution_count": 90,
     "metadata": {},
     "output_type": "execute_result"
    }
   ],
   "source": [
    "cl = KNNClassifier(k=4, strategy='brute', metric='cosine', weights=True)\n",
    "cl.fit(X_train_aug, y_train_aug)\n",
    "y_pred = cl.predict(X_test_pd)\n",
    "np.count_nonzero(y_pred == y_test_pd) / len(y_pred)"
   ]
  },
  {
   "cell_type": "code",
   "execution_count": 91,
   "metadata": {
    "colab": {
     "base_uri": "https://localhost:8080/",
     "height": 602
    },
    "id": "c44Vc8r9UAxL",
    "outputId": "5c019937-1f5f-4752-967e-17661d2170cf"
   },
   "outputs": [
    {
     "data": {
      "text/plain": [
       "<matplotlib.axes._subplots.AxesSubplot at 0x7f8ececc5290>"
      ]
     },
     "execution_count": 91,
     "metadata": {},
     "output_type": "execute_result"
    },
    {
     "data": {
      "image/png": "[encoded data removed]",
      "text/plain": [
       "<Figure size 576x576 with 1 Axes>"
      ]
     },
     "metadata": {
      "needs_background": "light"
     },
     "output_type": "display_data"
    }
   ],
   "source": [
    "y_test_np = y_test_pd.to_numpy()\n",
    "build_conf_mat(y_pred, y_test_np)"
   ]
  },
  {
   "cell_type": "code",
   "execution_count": 31,
   "metadata": {
    "id": "JqVCwCzbuX-e"
   },
   "outputs": [],
   "source": [
    "new_test = X_test_pd.copy(deep=True)\n",
    "transformer = np.apply_along_axis(np.reshape, 1, new_test, (28, 28))"
   ]
  },
  {
   "cell_type": "code",
   "execution_count": 93,
   "metadata": {
    "id": "_A-L2X9fwmCz"
   },
   "outputs": [],
   "source": [
    "def get_pred_aug(angle=-5, x_shift=1, y_shift=-1, sigma=0.5):\n",
    "    X_rotate = vec_rotate(transformer, angle=angle).reshape((transformer.shape[0], 784))\n",
    "    X_shift =  vec_shift(transformer, inverse_map=SimilarityTransform(translation=(x_shift, y_shift))).reshape((transformer.shape[0], 784))\n",
    "    X_gaus = vec_gauss(transformer, sigma=sigma).reshape((transformer.shape[0], 784))\n",
    "    \n",
    "    cl = KNNClassifier(k=4, strategy='brute', metric='cosine', weights=True)\n",
    "    cl.fit(X_train_pd.values, y_train_pd.values)\n",
    "    \n",
    "    y_pred_norm = cl.predict(new_test.values)\n",
    "    y_pred_rotate = cl.predict(X_rotate)\n",
    "    y_pred_shift = cl.predict(X_shift)\n",
    "    y_pred_gaus = cl.predict(X_gaus)\n",
    "    \n",
    "    y_pred_norm = np.vstack((y_pred_norm, y_pred_rotate, y_pred_shift, y_pred_gaus))\n",
    "    y_pred_norm = y_pred_norm.astype('int')\n",
    "    classes = np.zeros((len(y_pred_gaus), 10))\n",
    "    y_pred = np.zeros(len(y_pred_gaus))\n",
    "    for j in range(classes.shape[0]):\n",
    "        for i in range(4):\n",
    "            classes[j][y_pred_norm[i, j]] += 1\n",
    "        y_pred[j] = np.argmax(classes[j])\n",
    "  \n",
    "    res = np.count_nonzero(y_pred == y_test_pd) / len(y_pred)\n",
    "    return (res, y_pred)"
   ]
  },
  {
   "cell_type": "code",
   "execution_count": 48,
   "metadata": {
    "colab": {
     "base_uri": "https://localhost:8080/"
    },
    "id": "465iFcsHADaJ",
    "outputId": "6ebfd42a-850c-4c14-ea3f-0b5ca9667650"
   },
   "outputs": [
    {
     "data": {
      "text/plain": [
       "0.9746"
      ]
     },
     "execution_count": 48,
     "metadata": {},
     "output_type": "execute_result"
    }
   ],
   "source": [
    "res1 = get_pred_aug()\n",
    "res1[0]"
   ]
  },
  {
   "cell_type": "code",
   "execution_count": 51,
   "metadata": {
    "colab": {
     "base_uri": "https://localhost:8080/"
    },
    "id": "dl3zyLu7NKCi",
    "outputId": "daadec32-2bb9-4ba4-ecdf-c345821abb37"
   },
   "outputs": [
    {
     "data": {
      "text/plain": [
       "0.9737"
      ]
     },
     "execution_count": 51,
     "metadata": {},
     "output_type": "execute_result"
    }
   ],
   "source": [
    "res2 = get_pred_aug(angle=-5, x_shift =1, y_shift=-1, sigma=1.0)\n",
    "res2[0]"
   ]
  },
  {
   "cell_type": "code",
   "execution_count": 52,
   "metadata": {
    "colab": {
     "base_uri": "https://localhost:8080/"
    },
    "id": "fJg2dm_XNKTG",
    "outputId": "20cb2d8c-7eae-4b1c-c2aa-2774502dfd65"
   },
   "outputs": [
    {
     "data": {
      "text/plain": [
       "0.9729"
      ]
     },
     "execution_count": 52,
     "metadata": {},
     "output_type": "execute_result"
    }
   ],
   "source": [
    "res3 = get_pred_aug(angle=-5, x_shift =2, y_shift=3, sigma=1.0)\n",
    "res3[0]"
   ]
  },
  {
   "cell_type": "code",
   "execution_count": 95,
   "metadata": {
    "colab": {
     "base_uri": "https://localhost:8080/"
    },
    "id": "ntETLkbgNKZ0",
    "outputId": "960a6b30-50f7-471b-aa1b-04e64f2f65e2"
   },
   "outputs": [
    {
     "data": {
      "text/plain": [
       "0.9746"
      ]
     },
     "execution_count": 95,
     "metadata": {},
     "output_type": "execute_result"
    }
   ],
   "source": [
    "res4 = get_pred_aug(angle=5, x_shift =2, y_shift=3, sigma=0.5)\n",
    "res4[0]"
   ]
  },
  {
   "cell_type": "code",
   "execution_count": 54,
   "metadata": {
    "colab": {
     "base_uri": "https://localhost:8080/"
    },
    "id": "TBh04ek4NKc4",
    "outputId": "1197e81d-7bc4-4f09-d69e-70c40fe9ec7a"
   },
   "outputs": [
    {
     "data": {
      "text/plain": [
       "0.9726"
      ]
     },
     "execution_count": 54,
     "metadata": {},
     "output_type": "execute_result"
    }
   ],
   "source": [
    "res5 = get_pred_aug(angle=-5, x_shift=3, y_shift=3, sigma=1.0)\n",
    "res5[0]"
   ]
  },
  {
   "cell_type": "code",
   "execution_count": 55,
   "metadata": {
    "colab": {
     "base_uri": "https://localhost:8080/"
    },
    "id": "YsdmIJoHN4kM",
    "outputId": "1ada1946-ea3b-44c2-cb79-ba8cfc385d44"
   },
   "outputs": [
    {
     "data": {
      "text/plain": [
       "0.9731"
      ]
     },
     "execution_count": 55,
     "metadata": {},
     "output_type": "execute_result"
    }
   ],
   "source": [
    "res6 = get_pred_aug(angle=-5, x_shift =1, y_shift=-1, sigma=1.5)\n",
    "res6[0]"
   ]
  },
  {
   "cell_type": "code",
   "execution_count": 56,
   "metadata": {
    "colab": {
     "base_uri": "https://localhost:8080/"
    },
    "id": "Vj_VpSVSOSDh",
    "outputId": "eb52f088-497d-416a-a2a0-9c59d47c5fa9"
   },
   "outputs": [
    {
     "data": {
      "text/plain": [
       "0.9741"
      ]
     },
     "execution_count": 56,
     "metadata": {},
     "output_type": "execute_result"
    }
   ],
   "source": [
    "res7 = get_pred_aug(angle=5, x_shift =-2, y_shift=3, sigma=0.5)\n",
    "res7[0]"
   ]
  },
  {
   "cell_type": "code",
   "execution_count": 57,
   "metadata": {
    "colab": {
     "base_uri": "https://localhost:8080/"
    },
    "id": "CYhN2Z9zOSLs",
    "outputId": "64867df5-bf01-4452-91a0-04078b92bff3"
   },
   "outputs": [
    {
     "data": {
      "text/plain": [
       "0.9746"
      ]
     },
     "execution_count": 57,
     "metadata": {},
     "output_type": "execute_result"
    }
   ],
   "source": [
    "res8 = get_pred_aug(angle=5, x_shift=3, y_shift=2, sigma=0.5)\n",
    "res8[0]"
   ]
  },
  {
   "cell_type": "code",
   "execution_count": 58,
   "metadata": {
    "colab": {
     "base_uri": "https://localhost:8080/"
    },
    "id": "dRx6JF2KOSTX",
    "outputId": "6b719cee-f509-4934-a2e7-f0073de6287b"
   },
   "outputs": [
    {
     "data": {
      "text/plain": [
       "0.9732"
      ]
     },
     "execution_count": 58,
     "metadata": {},
     "output_type": "execute_result"
    }
   ],
   "source": [
    "res9 = get_pred_aug(angle=-10, x_shift =1, y_shift=-1, sigma=1.0)\n",
    "res9[0]"
   ]
  },
  {
   "cell_type": "code",
   "execution_count": 59,
   "metadata": {
    "colab": {
     "base_uri": "https://localhost:8080/"
    },
    "id": "uxBpVBmdOVVo",
    "outputId": "c63f9c22-b564-42a7-bb71-509e2806260c"
   },
   "outputs": [
    {
     "data": {
      "text/plain": [
       "0.9715"
      ]
     },
     "execution_count": 59,
     "metadata": {},
     "output_type": "execute_result"
    }
   ],
   "source": [
    "res10 = get_pred_aug(angle=10, x_shift=-1, y_shift=-1, sigma=1.0)\n",
    "res10[0]"
   ]
  },
  {
   "cell_type": "code",
   "execution_count": 60,
   "metadata": {
    "colab": {
     "base_uri": "https://localhost:8080/",
     "height": 602
    },
    "id": "as4mbfFTfYJU",
    "outputId": "cd0751ee-cf42-4894-c239-4c6fe4f507c4"
   },
   "outputs": [
    {
     "data": {
      "text/plain": [
       "<matplotlib.axes._subplots.AxesSubplot at 0x7f8ecfb7ea10>"
      ]
     },
     "execution_count": 60,
     "metadata": {},
     "output_type": "execute_result"
    },
    {
     "data": {
      "image/png": "[encoded data removed]",
      "text/plain": [
       "<Figure size 576x576 with 1 Axes>"
      ]
     },
     "metadata": {
      "needs_background": "light"
     },
     "output_type": "display_data"
    }
   ],
   "source": [
    "build_conf_mat(res4[1], y_test_np)"
   ]
  }
 ],
 "metadata": {
  "colab": {
   "collapsed_sections": [],
   "name": "experiments.ipynb",
   "provenance": []
  },
  "kernelspec": {
   "display_name": "Python 3",
   "language": "python",
   "name": "python3"
  },
  "language_info": {
   "codemirror_mode": {
    "name": "ipython",
    "version": 3
   },
   "file_extension": ".py",
   "mimetype": "text/x-python",
   "name": "python",
   "nbconvert_exporter": "python",
   "pygments_lexer": "ipython3",
   "version": "3.8.3"
  }
 },
 "nbformat": 4,
 "nbformat_minor": 1
}
